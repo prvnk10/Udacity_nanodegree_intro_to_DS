{
 "cells": [
  {
   "cell_type": "markdown",
   "metadata": {},
   "source": [
    "### Business understanding"
   ]
  },
  {
   "cell_type": "markdown",
   "metadata": {},
   "source": [
    "As part of this analysis, the intent is to observe the trend in the technology industry over the years. The data is taken from stackoverflow survey from 2011 to 2021 and the following are the main questions of interest?\n",
    "\n",
    "- Growth of Women in Technology?\n",
    "- Which country has the most developers?\n",
    "- Most popular Development Environment?"
   ]
  },
  {
   "cell_type": "code",
   "execution_count": null,
   "metadata": {},
   "outputs": [],
   "source": []
  },
  {
   "cell_type": "markdown",
   "metadata": {},
   "source": [
    "For each of the questions to be answered, each year's data is explored to understand which column makes sense and are used directly over here (missing values are not taken into consideration for any computation)"
   ]
  },
  {
   "cell_type": "markdown",
   "metadata": {},
   "source": [
    "### Import relevant libraries"
   ]
  },
  {
   "cell_type": "code",
   "execution_count": 1,
   "metadata": {},
   "outputs": [],
   "source": [
    "import numpy as np\n",
    "import pandas as pd\n",
    "\n",
    "import matplotlib.pyplot as plt\n",
    "\n",
    "import collections\n",
    "import chardet\n",
    "\n",
    "pd.set_option('display.max_columns', 500)"
   ]
  },
  {
   "cell_type": "markdown",
   "metadata": {},
   "source": [
    "### Read the data files"
   ]
  },
  {
   "cell_type": "code",
   "execution_count": 4,
   "metadata": {},
   "outputs": [],
   "source": [
    "'''read the csv files from 2011 to 2019 and understanding the data to decide what questions I would like to answer'''\n",
    "\n",
    "# df_2011 = pd.read_csv('2011 Stack Overflow Survey Results.csv', low_memory=False)\n",
    "# df_2012 = pd.read_csv('2012 Stack Overflow Survey Results.csv', low_memory=False)\n",
    "df_2013 = pd.read_csv('2013 Stack Overflow Survey Responses.csv', low_memory=False)\n",
    "df_2014 = pd.read_csv('2014 Stack Overflow Survey Responses.csv', low_memory=False)\n",
    "df_2015 = pd.read_csv('2015 Stack Overflow Developer Survey Responses.csv', header=1, low_memory=False)\n",
    "df_2016 = pd.read_csv('2016 Stack Overflow Survey Responses.csv', low_memory=False)\n",
    "df_2017 = pd.read_csv('2017 survey_results_public.csv', low_memory=False)\n",
    "df_2018 = pd.read_csv('2018 survey_results_public.csv', low_memory=False)\n",
    "df_2019 = pd.read_csv('2019 survey_results_public.csv', low_memory=False)\n",
    "df_2020 = pd.read_csv('2020 survey_results_public.csv', low_memory=False)\n",
    "df_2021 = pd.read_csv('2021 survey_results_public.csv', low_memory=False)"
   ]
  },
  {
   "cell_type": "code",
   "execution_count": 6,
   "metadata": {},
   "outputs": [],
   "source": [
    "# df_2015"
   ]
  },
  {
   "cell_type": "markdown",
   "metadata": {},
   "source": [
    "Note:\n",
    "    \n",
    "Directly reading the files for the years 2011, 2012 gives an error related to encoding (which means the encoding is not utf-8)\n",
    "\n",
    "And for the data for the year 2015, first row is to be skipped "
   ]
  },
  {
   "cell_type": "markdown",
   "metadata": {},
   "source": [
    "#### find the file-encoding "
   ]
  },
  {
   "cell_type": "code",
   "execution_count": 7,
   "metadata": {},
   "outputs": [],
   "source": [
    "with open('2011 Stack Overflow Survey Results.csv', 'rb') as f:\n",
    "    data_encoding_2011 = chardet.detect(f.read())"
   ]
  },
  {
   "cell_type": "code",
   "execution_count": 8,
   "metadata": {},
   "outputs": [],
   "source": [
    "with open('2012 Stack Overflow Survey Results.csv', 'rb') as f:\n",
    "    data_encoding_2012 = chardet.detect(f.read())"
   ]
  },
  {
   "cell_type": "code",
   "execution_count": null,
   "metadata": {},
   "outputs": [],
   "source": []
  },
  {
   "cell_type": "code",
   "execution_count": 9,
   "metadata": {},
   "outputs": [
    {
     "data": {
      "text/plain": [
       "{'encoding': 'ISO-8859-1', 'confidence': 0.73, 'language': ''}"
      ]
     },
     "execution_count": 9,
     "metadata": {},
     "output_type": "execute_result"
    }
   ],
   "source": [
    "data_encoding_2011"
   ]
  },
  {
   "cell_type": "code",
   "execution_count": 10,
   "metadata": {},
   "outputs": [
    {
     "data": {
      "text/plain": [
       "{'encoding': 'Windows-1252', 'confidence': 0.73, 'language': ''}"
      ]
     },
     "execution_count": 10,
     "metadata": {},
     "output_type": "execute_result"
    }
   ],
   "source": [
    "data_encoding_2012"
   ]
  },
  {
   "cell_type": "code",
   "execution_count": null,
   "metadata": {},
   "outputs": [],
   "source": []
  },
  {
   "cell_type": "markdown",
   "metadata": {},
   "source": [
    "### Read the data for the years 2011, 2012"
   ]
  },
  {
   "cell_type": "code",
   "execution_count": 12,
   "metadata": {},
   "outputs": [],
   "source": [
    "df_2011 = pd.read_csv('2011 Stack Overflow Survey Results.csv', low_memory=False, encoding=data_encoding_2011[\"encoding\"])\n",
    "df_2012 = pd.read_csv('2012 Stack Overflow Survey Results.csv', low_memory=False, encoding=data_encoding_2011[\"encoding\"])"
   ]
  },
  {
   "cell_type": "code",
   "execution_count": null,
   "metadata": {},
   "outputs": [],
   "source": []
  },
  {
   "cell_type": "code",
   "execution_count": null,
   "metadata": {},
   "outputs": [],
   "source": []
  },
  {
   "cell_type": "markdown",
   "metadata": {},
   "source": [
    "### Growth in percentage of females 2014-2018"
   ]
  },
  {
   "cell_type": "markdown",
   "metadata": {},
   "source": [
    "Note:\n",
    "    \n",
    "there is no gender field in the data from 2011-2013"
   ]
  },
  {
   "cell_type": "code",
   "execution_count": 61,
   "metadata": {},
   "outputs": [
    {
     "data": {
      "text/plain": [
       "<matplotlib.axes._subplots.AxesSubplot at 0x2425f0f7c88>"
      ]
     },
     "execution_count": 61,
     "metadata": {},
     "output_type": "execute_result"
    },
    {
     "data": {
      "image/png": "[encoded data removed]",
      "text/plain": [
       "<Figure size 432x288 with 1 Axes>"
      ]
     },
     "metadata": {
      "needs_background": "light"
     },
     "output_type": "display_data"
    }
   ],
   "source": [
    "'''Calculating percentage of females in each year'''\n",
    "\n",
    "females_2014 = df_2014['What is your gender?'].value_counts()['Female']/df_2014['What is your gender?'].count() * 100\n",
    "females_2015 = df_2015['Gender'].value_counts()['Female']/df_2015['Gender'].count() * 100\n",
    "\n",
    "females_2016 = df_2016['gender'].value_counts()['Female']/df_2016['gender'].count() * 100\n",
    "females_2017 = df_2017['Gender'].value_counts()['Female']/df_2017['Gender'].count() * 100\n",
    "\n",
    "females_2018 = df_2018['Gender'].value_counts()['Female']/df_2018['Gender'].count() * 100\n",
    "females_2019 = df_2019['Gender'].value_counts()['Woman']/df_2019['Gender'].count() * 100\n",
    "\n",
    "females_2020 = df_2020['Gender'].value_counts()['Woman']/df_2019['Gender'].count() * 100\n",
    "females_2021 = df_2021['Gender'].value_counts()['Woman']/df_2019['Gender'].count() * 100\n",
    "\n",
    "#bar plot to find the percentage of women respondents each year\n",
    "female_growth_df = pd.DataFrame({'year':['2014', '2015', '2016', '2017', '2018', '2019', '2020', '2021'], \n",
    "                                 '% of female developers':[females_2014, females_2015, females_2016, females_2017, females_2018, females_2019, females_2020, females_2021]\n",
    "                                }\n",
    "                               )\n",
    "female_growth_df.plot.bar(x='year', y='% of female developers', rot=0)"
   ]
  },
  {
   "cell_type": "code",
   "execution_count": null,
   "metadata": {},
   "outputs": [],
   "source": []
  },
  {
   "cell_type": "code",
   "execution_count": null,
   "metadata": {},
   "outputs": [],
   "source": []
  },
  {
   "cell_type": "markdown",
   "metadata": {},
   "source": [
    "### Countries where the most developers are based in (last 5 years)"
   ]
  },
  {
   "cell_type": "code",
   "execution_count": 76,
   "metadata": {},
   "outputs": [],
   "source": [
    "def country_with_most_developers(input_data, rows):\n",
    "    \"\"\"\n",
    "        Input:\n",
    "            input_data: dictionary with country name as key and num developers as value\n",
    "            rows: total number of not-null records for a given year (input data)\n",
    "        Output:\n",
    "            country name with most developers and its value\n",
    "    \"\"\"\n",
    "    \n",
    "    country = max(input_data, key=input_data.get)\n",
    "    developers_fraction = max(input_data.values())/rows * 100\n",
    "    \n",
    "    return country, developers_fraction"
   ]
  },
  {
   "cell_type": "code",
   "execution_count": 81,
   "metadata": {},
   "outputs": [],
   "source": [
    "# df_2016[\"country\"].value_counts()[0]"
   ]
  },
  {
   "cell_type": "code",
   "execution_count": 89,
   "metadata": {},
   "outputs": [],
   "source": [
    "most_dev_2011 = country_with_most_developers(df_2011['What Country or Region do you live in?'].value_counts().to_dict(), df_2011['What Country or Region do you live in?'].count())\n",
    "most_dev_2012 = country_with_most_developers(df_2012['What Country or Region do you live in?'].value_counts().to_dict(), df_2012['What Country or Region do you live in?'].count())\n",
    "\n",
    "most_dev_2013 = country_with_most_developers(df_2013['What Country or Region do you live in?'].value_counts().to_dict(), df_2013['What Country or Region do you live in?'].count())\n",
    "most_dev_2014 = country_with_most_developers(df_2014['What Country do you live in?'].value_counts().to_dict(), df_2014['What Country do you live in?'].count())\n",
    "\n",
    "most_dev_2015 = country_with_most_developers(df_2015[\"Country\"].value_counts().to_dict(), df_2015[\"Country\"].count())\n",
    "\n",
    "most_dev_2016 = country_with_most_developers(df_2016[\"country\"].value_counts().to_dict(), df_2016[\"country\"].count())\n",
    "most_dev_2017 = country_with_most_developers(df_2017[\"Country\"].value_counts().to_dict(), df_2017[\"Country\"].count())\n",
    "\n",
    "most_dev_2018 = country_with_most_developers(df_2018[\"Country\"].value_counts().to_dict(), df_2018[\"Country\"].count())\n",
    "most_dev_2019 = country_with_most_developers(df_2019[\"Country\"].value_counts().to_dict(), df_2019[\"Country\"].count())\n",
    "\n",
    "most_dev_2020 = country_with_most_developers(df_2020[\"Country\"].value_counts().to_dict(), df_2020[\"Country\"].count())\n",
    "most_dev_2021 = country_with_most_developers(df_2021[\"Country\"].value_counts().to_dict(), df_2021[\"Country\"].count())"
   ]
  },
  {
   "cell_type": "code",
   "execution_count": 88,
   "metadata": {},
   "outputs": [
    {
     "data": {
      "text/plain": [
       "('United States of America', 18.322367238341783)"
      ]
     },
     "execution_count": 88,
     "metadata": {},
     "output_type": "execute_result"
    }
   ],
   "source": [
    "most_dev_2021"
   ]
  },
  {
   "cell_type": "code",
   "execution_count": 90,
   "metadata": {},
   "outputs": [],
   "source": [
    "most_dev_location_dict = {\n",
    "    '2011': most_dev_2011,\n",
    "    '2012': most_dev_2012,\n",
    "    '2013': most_dev_2013,\n",
    "    '2014': most_dev_2014,\n",
    "    '2015': most_dev_2015,\n",
    "    '2016': most_dev_2016,\n",
    "    '2017': most_dev_2017,\n",
    "    '2018': most_dev_2018,\n",
    "    '2019': most_dev_2019,\n",
    "    '2020': most_dev_2020,\n",
    "    '2021': most_dev_2021\n",
    "}"
   ]
  },
  {
   "cell_type": "code",
   "execution_count": 91,
   "metadata": {},
   "outputs": [
    {
     "data": {
      "text/plain": [
       "{'2011': ('United States of America', 36.85145700071073),\n",
       " '2012': ('United States of America', 28.58744394618834),\n",
       " '2013': ('United States of America', 32.65243276534592),\n",
       " '2014': ('United States', 27.83882783882784),\n",
       " '2015': ('United States', 18.770520985798488),\n",
       " '2016': ('United States', 24.382293617634346),\n",
       " '2017': ('United States', 22.289461394769614),\n",
       " '2018': ('United States', 20.63021240717979),\n",
       " '2019': ('United States', 23.604241078973757),\n",
       " '2020': ('United States', 19.460918966163064),\n",
       " '2021': ('United States of America', 18.322367238341783)}"
      ]
     },
     "execution_count": 91,
     "metadata": {},
     "output_type": "execute_result"
    }
   ],
   "source": [
    "most_dev_location_dict"
   ]
  },
  {
   "cell_type": "code",
   "execution_count": null,
   "metadata": {},
   "outputs": [],
   "source": []
  },
  {
   "cell_type": "code",
   "execution_count": 92,
   "metadata": {},
   "outputs": [
    {
     "data": {
      "image/png": "[encoded data removed]",
      "text/plain": [
       "<Figure size 1080x720 with 1 Axes>"
      ]
     },
     "metadata": {
      "needs_background": "light"
     },
     "output_type": "display_data"
    }
   ],
   "source": [
    "#bar chart to display the country with the most number of developers\n",
    "\n",
    "df_most_dev_location = pd.DataFrame({'% of developers': list(map(lambda x: x[1], most_dev_location_dict.values()))},\n",
    "                                    index = list(most_dev_location_dict.keys())\n",
    "                                   ) \n",
    "\n",
    "ax = df_most_dev_location.plot.bar(figsize=(15,10), color=[plt.cm.Paired(np.arange(len(df)))])\n",
    "\n",
    "for i, p in enumerate(list(ax.patches)):\n",
    "    ax.annotate(str(list(map(lambda x: x[0], most_dev_location_dict.values()))[i]), (p.get_x() * 1.005, p.get_height() * 1.005))"
   ]
  },
  {
   "cell_type": "code",
   "execution_count": null,
   "metadata": {},
   "outputs": [],
   "source": []
  },
  {
   "cell_type": "markdown",
   "metadata": {},
   "source": [
    "### Get the most popular development environment"
   ]
  },
  {
   "cell_type": "code",
   "execution_count": 26,
   "metadata": {},
   "outputs": [
    {
     "data": {
      "text/plain": [
       "0                                              Atom; Xcode\n",
       "1        Atom; Notepad++; Vim; PyCharm; RubyMine; Visua...\n",
       "2                              Sublime Text; Vim; IntelliJ\n",
       "3        Notepad++; Sublime Text; TextMate; Vim; IPytho...\n",
       "4                                                      NaN\n",
       "                               ...                        \n",
       "51387                          Sublime Text; Visual Studio\n",
       "51388                    Notepad++; Sublime Text; NetBeans\n",
       "51389                                                  NaN\n",
       "51390                                    Emacs; Vim; Xcode\n",
       "51391                    Notepad++; Eclipse; Visual Studio\n",
       "Name: IDE, Length: 51392, dtype: object"
      ]
     },
     "execution_count": 26,
     "metadata": {},
     "output_type": "execute_result"
    }
   ],
   "source": [
    "df_2017[\"IDE\"]"
   ]
  },
  {
   "cell_type": "code",
   "execution_count": 27,
   "metadata": {},
   "outputs": [],
   "source": [
    "def popular_dev_env(input_data):\n",
    "    \"\"\"Input: series where each entry corresponds to the user's response for most popular development environment\n",
    "       Output: most popular envrionment name, and the fraction of users who uses this environment\n",
    "    \"\"\"\n",
    "    \n",
    "    dictionary = collections.defaultdict(int)\n",
    "    \n",
    "    ## iterate over each entry/record in the input\n",
    "    for data in input_data:\n",
    "        if not pd.isnull(data):\n",
    "            dev_envs = [x.strip().lower() for x in data.split(\";\")]\n",
    "            \n",
    "            ## iterate over each environment (in case of multiple ones)\n",
    "            for env in dev_envs:\n",
    "                dictionary[env] += 1\n",
    "    \n",
    "    ## return the dictionary item with max. value\n",
    "    return max(dictionary, key=dictionary.get), max(dictionary.values())/(input_data.count()) * 100"
   ]
  },
  {
   "cell_type": "code",
   "execution_count": 28,
   "metadata": {},
   "outputs": [
    {
     "data": {
      "text/plain": [
       "('visual studio', 38.17192296957857)"
      ]
     },
     "execution_count": 28,
     "metadata": {},
     "output_type": "execute_result"
    }
   ],
   "source": [
    "popular_dev_env(df_2017[\"IDE\"])"
   ]
  },
  {
   "cell_type": "code",
   "execution_count": 30,
   "metadata": {},
   "outputs": [],
   "source": [
    "pop_env_2017 = popular_dev_env(df_2017[\"IDE\"])\n",
    "\n",
    "pop_env_2018 = popular_dev_env(df_2018[\"IDE\"])\n",
    "\n",
    "pop_env_2019 = popular_dev_env(df_2019[\"DevEnviron\"])"
   ]
  },
  {
   "cell_type": "code",
   "execution_count": 35,
   "metadata": {},
   "outputs": [],
   "source": [
    "pop_dev_env_dict = {\n",
    "    '2017': pop_env_2017,\n",
    "    '2018': pop_env_2018,\n",
    "    '2019': pop_env_2019\n",
    "}"
   ]
  },
  {
   "cell_type": "code",
   "execution_count": 36,
   "metadata": {},
   "outputs": [
    {
     "name": "stdout",
     "output_type": "stream",
     "text": [
      "{'2017': ('visual studio', 38.17192296957857), '2018': ('visual studio code', 34.855035942597944), '2019': ('visual studio code', 50.747277162522764)}\n"
     ]
    }
   ],
   "source": [
    "print(pop_dev_env_dict)"
   ]
  },
  {
   "cell_type": "code",
   "execution_count": null,
   "metadata": {},
   "outputs": [],
   "source": []
  },
  {
   "cell_type": "code",
   "execution_count": 38,
   "metadata": {},
   "outputs": [
    {
     "data": {
      "image/png": "[encoded data removed]",
      "text/plain": [
       "<Figure size 1080x720 with 1 Axes>"
      ]
     },
     "metadata": {
      "needs_background": "light"
     },
     "output_type": "display_data"
    }
   ],
   "source": [
    "#bar chart to display the most popular IDE for each year\n",
    "\n",
    "df = pd.DataFrame({'percentage of users': list(map(lambda x: x[1], pop_dev_env_dict.values()))},index=list(pop_dev_env_dict.keys()) ) \n",
    "ax = df.plot.bar(figsize=(15,10), color=[plt.cm.Paired(np.arange(len(df)))])\n",
    "\n",
    "for i, p in enumerate(list(ax.patches)):\n",
    "    ax.annotate(str(list(map(lambda x: x[0], pop_dev_env_dict.values()))[i]), (p.get_x() * 1.005, p.get_height() * 1.005))"
   ]
  },
  {
   "cell_type": "code",
   "execution_count": null,
   "metadata": {},
   "outputs": [],
   "source": []
  },
  {
   "cell_type": "markdown",
   "metadata": {},
   "source": [
    "### Data modeling"
   ]
  },
  {
   "cell_type": "markdown",
   "metadata": {},
   "source": [
    "Data modeling is not needed in this specific use case as the business questions of interest could be answered directly via the route of Data exploration"
   ]
  }
 ],
 "metadata": {
  "kernelspec": {
   "display_name": "Python 3",
   "language": "python",
   "name": "python3"
  },
  "language_info": {
   "codemirror_mode": {
    "name": "ipython",
    "version": 3
   },
   "file_extension": ".py",
   "mimetype": "text/x-python",
   "name": "python",
   "nbconvert_exporter": "python",
   "pygments_lexer": "ipython3",
   "version": "3.7.4"
  }
 },
 "nbformat": 4,
 "nbformat_minor": 2
}
