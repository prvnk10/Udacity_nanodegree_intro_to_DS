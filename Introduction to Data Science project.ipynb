{
 "cells": [
  {
   "cell_type": "markdown",
   "metadata": {},
   "source": [
    "### Business objective/understanding"
   ]
  },
  {
   "cell_type": "markdown",
   "metadata": {},
   "source": [
    "As part of this analysis, the intent is to observe the trend in the technology industry over the years. The data is taken from stackoverflow survey from 2011 to 2021 and the following are the main questions of interest?\n",
    "\n",
    "- Growth of Women in Technology?\n",
    "- Which country has the most developers?\n",
    "- Most popular Development Environment?"
   ]
  },
  {
   "cell_type": "markdown",
   "metadata": {},
   "source": [
    "For each of the questions to be answered, each year's data is explored to understand which column makes sense and are used directly over here (missing values are not taken into consideration for any computation)"
   ]
  },
  {
   "cell_type": "markdown",
   "metadata": {},
   "source": [
    "### Import relevant libraries"
   ]
  },
  {
   "cell_type": "code",
   "execution_count": 26,
   "metadata": {},
   "outputs": [],
   "source": [
    "import numpy as np\n",
    "import pandas as pd\n",
    "\n",
    "import matplotlib.pyplot as plt\n",
    "\n",
    "import collections\n",
    "import chardet\n",
    "\n",
    "pd.set_option('display.max_columns', 500)"
   ]
  },
  {
   "cell_type": "markdown",
   "metadata": {},
   "source": [
    "### Read the data files"
   ]
  },
  {
   "cell_type": "code",
   "execution_count": 27,
   "metadata": {},
   "outputs": [],
   "source": [
    "'''read the csv files from 2011 to 2019 and understanding the data to decide what questions I would like to answer'''\n",
    "\n",
    "# df_2011 = pd.read_csv('2011 Stack Overflow Survey Results.csv', low_memory=False)\n",
    "# df_2012 = pd.read_csv('2012 Stack Overflow Survey Results.csv', low_memory=False)\n",
    "df_2013 = pd.read_csv('2013 Stack Overflow Survey Responses.csv', low_memory=False)\n",
    "df_2014 = pd.read_csv('2014 Stack Overflow Survey Responses.csv', low_memory=False)\n",
    "df_2015 = pd.read_csv('2015 Stack Overflow Developer Survey Responses.csv', header=1, low_memory=False)\n",
    "df_2016 = pd.read_csv('2016 Stack Overflow Survey Responses.csv', low_memory=False)\n",
    "df_2017 = pd.read_csv('2017 survey_results_public.csv', low_memory=False)\n",
    "df_2018 = pd.read_csv('2018 survey_results_public.csv', low_memory=False)\n",
    "df_2019 = pd.read_csv('2019 survey_results_public.csv', low_memory=False)\n",
    "df_2020 = pd.read_csv('2020 survey_results_public.csv', low_memory=False)\n",
    "df_2021 = pd.read_csv('2021 survey_results_public.csv', low_memory=False)"
   ]
  },
  {
   "cell_type": "code",
   "execution_count": 28,
   "metadata": {},
   "outputs": [],
   "source": [
    "# df_2015"
   ]
  },
  {
   "cell_type": "markdown",
   "metadata": {},
   "source": [
    "Note:\n",
    "    \n",
    "Directly reading the files for the years 2011, 2012 gives an error related to encoding (which means the encoding is not utf-8)\n",
    "\n",
    "And for the data for the year 2015, first row is to be skipped "
   ]
  },
  {
   "cell_type": "markdown",
   "metadata": {},
   "source": [
    "#### find the file-encoding "
   ]
  },
  {
   "cell_type": "code",
   "execution_count": 29,
   "metadata": {},
   "outputs": [],
   "source": [
    "with open('2011 Stack Overflow Survey Results.csv', 'rb') as f:\n",
    "    data_encoding_2011 = chardet.detect(f.read())"
   ]
  },
  {
   "cell_type": "code",
   "execution_count": 30,
   "metadata": {},
   "outputs": [],
   "source": [
    "with open('2012 Stack Overflow Survey Results.csv', 'rb') as f:\n",
    "    data_encoding_2012 = chardet.detect(f.read())"
   ]
  },
  {
   "cell_type": "code",
   "execution_count": null,
   "metadata": {},
   "outputs": [],
   "source": []
  },
  {
   "cell_type": "code",
   "execution_count": 31,
   "metadata": {},
   "outputs": [
    {
     "data": {
      "text/plain": [
       "{'encoding': 'ISO-8859-1', 'confidence': 0.73, 'language': ''}"
      ]
     },
     "execution_count": 31,
     "metadata": {},
     "output_type": "execute_result"
    }
   ],
   "source": [
    "data_encoding_2011"
   ]
  },
  {
   "cell_type": "code",
   "execution_count": 32,
   "metadata": {},
   "outputs": [
    {
     "data": {
      "text/plain": [
       "{'encoding': 'Windows-1252', 'confidence': 0.73, 'language': ''}"
      ]
     },
     "execution_count": 32,
     "metadata": {},
     "output_type": "execute_result"
    }
   ],
   "source": [
    "data_encoding_2012"
   ]
  },
  {
   "cell_type": "code",
   "execution_count": null,
   "metadata": {},
   "outputs": [],
   "source": []
  },
  {
   "cell_type": "markdown",
   "metadata": {},
   "source": [
    "### Read the data for the years 2011, 2012"
   ]
  },
  {
   "cell_type": "code",
   "execution_count": 33,
   "metadata": {},
   "outputs": [],
   "source": [
    "df_2011 = pd.read_csv('2011 Stack Overflow Survey Results.csv', low_memory=False, encoding=data_encoding_2011[\"encoding\"])\n",
    "df_2012 = pd.read_csv('2012 Stack Overflow Survey Results.csv', low_memory=False, encoding=data_encoding_2011[\"encoding\"])"
   ]
  },
  {
   "cell_type": "code",
   "execution_count": null,
   "metadata": {},
   "outputs": [],
   "source": []
  },
  {
   "cell_type": "markdown",
   "metadata": {},
   "source": [
    "### Data understanding"
   ]
  },
  {
   "cell_type": "code",
   "execution_count": 34,
   "metadata": {},
   "outputs": [],
   "source": [
    "def df_properties(input_df, year, country_col):\n",
    "    \n",
    "    \"\"\"Input: dataframe\n",
    "    \n",
    "    This function analyzes and prints the following:\n",
    "        - shape of the dataframe\n",
    "        - number of null values in each column\n",
    "        - how many unique countries are represented in the given dataset\n",
    "    \"\"\"\n",
    "    print(\"-------------------------------------\")\n",
    "    \n",
    "    print(\"Summarizing the details for the survey results for the year: \", str(year))\n",
    "    print(\"The shape of the dataframe is: \", str(input_df.shape))\n",
    "    \n",
    "    print(input_df.isna().sum())\n",
    "    \n",
    "    print(\"This dataset appears to have captured responses from \", str(input_df[country_col].nunique()), \" countries\")\n",
    "    print(\"-------------------------------------\")"
   ]
  },
  {
   "cell_type": "code",
   "execution_count": 35,
   "metadata": {},
   "outputs": [
    {
     "name": "stdout",
     "output_type": "stream",
     "text": [
      "-------------------------------------\n",
      "Summarizing the details for the survey results for the year:  2011\n",
      "The shape of the dataframe is:  (2814, 65)\n",
      "What Country or Region do you live in?                                                                0\n",
      "Which US State or Territory do you live in?                                                        1784\n",
      "How old are you?                                                                                     84\n",
      "How many years of IT/Programming experience do you have?                                             84\n",
      "How would you best describe the industry you work in?                                                84\n",
      "                                                                                                   ... \n",
      "Unnamed: 60                                                                                        1989\n",
      "Unnamed: 61                                                                                        2499\n",
      "Unnamed: 62                                                                                        2595\n",
      "In the last 12 months, how much money have you spent on personal technology-related purchases?      308\n",
      "Which of our sites do you frequent most?                                                            281\n",
      "Length: 65, dtype: int64\n",
      "This dataset appears to have captured responses from  20  countries\n",
      "-------------------------------------\n"
     ]
    }
   ],
   "source": [
    "df_properties(df_2011, 2011, \"What Country or Region do you live in?\")"
   ]
  },
  {
   "cell_type": "code",
   "execution_count": 36,
   "metadata": {},
   "outputs": [
    {
     "name": "stdout",
     "output_type": "stream",
     "text": [
      "-------------------------------------\n",
      "Summarizing the details for the survey results for the year:  2012\n",
      "The shape of the dataframe is:  (6244, 75)\n",
      "What Country or Region do you live in?                                0\n",
      "Which US State or Territory do you live in?                        4468\n",
      "How old are you?                                                    279\n",
      "How many years of IT/Programming experience do you have?            279\n",
      "How would you best describe the industry you currently work in?     279\n",
      "                                                                   ... \n",
      "Unnamed: 70                                                        1136\n",
      "What advertisers do you remember seeing on Stack Overflow?         4263\n",
      "What is your current Stack Overflow reputation?                    1101\n",
      "Which of our sites do you frequent most?                           1047\n",
      "Unnamed: 74                                                        5991\n",
      "Length: 75, dtype: int64\n",
      "This dataset appears to have captured responses from  21  countries\n",
      "-------------------------------------\n"
     ]
    }
   ],
   "source": [
    "df_properties(df_2012, 2012, \"What Country or Region do you live in?\")"
   ]
  },
  {
   "cell_type": "code",
   "execution_count": 37,
   "metadata": {},
   "outputs": [
    {
     "name": "stdout",
     "output_type": "stream",
     "text": [
      "-------------------------------------\n",
      "Summarizing the details for the survey results for the year:  2013\n",
      "The shape of the dataframe is:  (9743, 128)\n",
      "What Country or Region do you live in?                                1\n",
      "Which US State or Territory do you live in?                        6583\n",
      "How old are you?                                                    308\n",
      "How many years of IT/Programming experience do you have?            306\n",
      "How would you best describe the industry you currently work in?     306\n",
      "                                                                   ... \n",
      "What is your current Stack Overflow reputation?                    2310\n",
      "How do you use Stack Overflow?                                     2686\n",
      "Unnamed: 125                                                       4820\n",
      "Unnamed: 126                                                       3817\n",
      "Unnamed: 127                                                       9141\n",
      "Length: 128, dtype: int64\n",
      "This dataset appears to have captured responses from  21  countries\n",
      "-------------------------------------\n"
     ]
    }
   ],
   "source": [
    "df_properties(df_2013, 2013, \"What Country or Region do you live in?\")"
   ]
  },
  {
   "cell_type": "code",
   "execution_count": 38,
   "metadata": {},
   "outputs": [
    {
     "name": "stdout",
     "output_type": "stream",
     "text": [
      "-------------------------------------\n",
      "Summarizing the details for the survey results for the year:  2014\n",
      "The shape of the dataframe is:  (7644, 120)\n",
      "What Country do you live in?                                                                                        0\n",
      "Unnamed: 1                                                                                                       7643\n",
      "Which US State or Territory do you live in?                                                                      5535\n",
      "How old are you?                                                                                                  297\n",
      "What is your gender?                                                                                              297\n",
      "                                                                                                                 ... \n",
      "Unnamed: 115                                                                                                     2717\n",
      "Unnamed: 116                                                                                                     7057\n",
      "Unnamed: 117                                                                                                     5034\n",
      "Unnamed: 118                                                                                                     7378\n",
      "How often do you find solutions to your programming problems on Stack Overflow without asking a new question?    1385\n",
      "Length: 120, dtype: int64\n",
      "This dataset appears to have captured responses from  97  countries\n",
      "-------------------------------------\n"
     ]
    }
   ],
   "source": [
    "df_properties(df_2014, 2014, \"What Country do you live in?\")"
   ]
  },
  {
   "cell_type": "code",
   "execution_count": 39,
   "metadata": {},
   "outputs": [
    {
     "name": "stdout",
     "output_type": "stream",
     "text": [
      "-------------------------------------\n",
      "Summarizing the details for the survey results for the year:  2015\n",
      "The shape of the dataframe is:  (26086, 222)\n",
      "Country                                                807\n",
      "Age                                                    255\n",
      "Gender                                                 342\n",
      "Tabs or Spaces                                         279\n",
      "Years IT / Programming Experience                     1259\n",
      "                                                     ...  \n",
      "Why answer: Self promotion                           22768\n",
      "Why answer: Sense of responsibility to developers    20911\n",
      "Why answer: No idea                                  25064\n",
      "Why answer: I don't answer and I don't want to       25384\n",
      "Why answer: I don't answer but I want to             20386\n",
      "Length: 222, dtype: int64\n",
      "This dataset appears to have captured responses from  156  countries\n",
      "-------------------------------------\n"
     ]
    }
   ],
   "source": [
    "df_properties(df_2015, 2015, \"Country\")"
   ]
  },
  {
   "cell_type": "code",
   "execution_count": 40,
   "metadata": {},
   "outputs": [
    {
     "name": "stdout",
     "output_type": "stream",
     "text": [
      "-------------------------------------\n",
      "Summarizing the details for the survey results for the year:  2016\n",
      "The shape of the dataframe is:  (56030, 66)\n",
      "Unnamed: 0                      0\n",
      "collector                       0\n",
      "country                       502\n",
      "un_subregion                  717\n",
      "so_region                     640\n",
      "                            ...  \n",
      "important_companymission    13501\n",
      "important_wfh               13448\n",
      "important_ownoffice         13492\n",
      "developer_challenges        14934\n",
      "why_stack_overflow          14237\n",
      "Length: 66, dtype: int64\n",
      "This dataset appears to have captured responses from  175  countries\n",
      "-------------------------------------\n"
     ]
    }
   ],
   "source": [
    "df_properties(df_2016, 2016, \"country\")"
   ]
  },
  {
   "cell_type": "code",
   "execution_count": 41,
   "metadata": {},
   "outputs": [
    {
     "name": "stdout",
     "output_type": "stream",
     "text": [
      "-------------------------------------\n",
      "Summarizing the details for the survey results for the year:  2017\n",
      "The shape of the dataframe is:  (51392, 154)\n",
      "Respondent                  0\n",
      "Professional                0\n",
      "ProgramHobby                0\n",
      "Country                     0\n",
      "University                  0\n",
      "                        ...  \n",
      "QuestionsInteresting    16856\n",
      "QuestionsConfusing      16973\n",
      "InterestedAnswers       16780\n",
      "Salary                  38501\n",
      "ExpectedSalary          48826\n",
      "Length: 154, dtype: int64\n",
      "This dataset appears to have captured responses from  201  countries\n",
      "-------------------------------------\n"
     ]
    }
   ],
   "source": [
    "df_properties(df_2017, 2017, \"Country\")"
   ]
  },
  {
   "cell_type": "code",
   "execution_count": 42,
   "metadata": {},
   "outputs": [
    {
     "name": "stdout",
     "output_type": "stream",
     "text": [
      "-------------------------------------\n",
      "Summarizing the details for the survey results for the year:  2018\n",
      "The shape of the dataframe is:  (98855, 129)\n",
      "Respondent           0\n",
      "Hobby                0\n",
      "OpenSource           0\n",
      "Country            412\n",
      "Student           3954\n",
      "                 ...  \n",
      "Age              34281\n",
      "Dependents       36259\n",
      "MilitaryUS       83074\n",
      "SurveyTooLong    32914\n",
      "SurveyEasy       32976\n",
      "Length: 129, dtype: int64\n",
      "This dataset appears to have captured responses from  183  countries\n",
      "-------------------------------------\n"
     ]
    }
   ],
   "source": [
    "df_properties(df_2018, 2018, \"Country\")"
   ]
  },
  {
   "cell_type": "code",
   "execution_count": 43,
   "metadata": {},
   "outputs": [
    {
     "name": "stdout",
     "output_type": "stream",
     "text": [
      "-------------------------------------\n",
      "Summarizing the details for the survey results for the year:  2019\n",
      "The shape of the dataframe is:  (88883, 85)\n",
      "Respondent          0\n",
      "MainBranch        552\n",
      "Hobbyist            0\n",
      "OpenSourcer         0\n",
      "OpenSource       2041\n",
      "                ...  \n",
      "Sexuality       12736\n",
      "Ethnicity       12215\n",
      "Dependents       5824\n",
      "SurveyLength     1899\n",
      "SurveyEase       1802\n",
      "Length: 85, dtype: int64\n",
      "This dataset appears to have captured responses from  179  countries\n",
      "-------------------------------------\n"
     ]
    }
   ],
   "source": [
    "df_properties(df_2019, 2019, \"Country\")"
   ]
  },
  {
   "cell_type": "code",
   "execution_count": 44,
   "metadata": {},
   "outputs": [
    {
     "name": "stdout",
     "output_type": "stream",
     "text": [
      "-------------------------------------\n",
      "Summarizing the details for the survey results for the year:  2020\n",
      "The shape of the dataframe is:  (64461, 61)\n",
      "Respondent                0\n",
      "MainBranch              299\n",
      "Hobbyist                 45\n",
      "Age                   19015\n",
      "Age1stCode             6561\n",
      "                      ...  \n",
      "WebframeWorkedWith    22182\n",
      "WelcomeChange         11778\n",
      "WorkWeekHrs           23310\n",
      "YearsCode              6777\n",
      "YearsCodePro          18112\n",
      "Length: 61, dtype: int64\n",
      "This dataset appears to have captured responses from  183  countries\n",
      "-------------------------------------\n"
     ]
    }
   ],
   "source": [
    "df_properties(df_2020, 2020, \"Country\")"
   ]
  },
  {
   "cell_type": "code",
   "execution_count": 45,
   "metadata": {
    "scrolled": true
   },
   "outputs": [
    {
     "name": "stdout",
     "output_type": "stream",
     "text": [
      "-------------------------------------\n",
      "Summarizing the details for the survey results for the year:  2021\n",
      "The shape of the dataframe is:  (83439, 48)\n",
      "ResponseId                          0\n",
      "MainBranch                          0\n",
      "Employment                        116\n",
      "Country                             0\n",
      "US_State                        68519\n",
      "UK_Country                      79021\n",
      "EdLevel                           313\n",
      "Age1stCode                        196\n",
      "LearnCode                         476\n",
      "YearsCode                        1798\n",
      "YearsCodePro                    22223\n",
      "DevType                         16955\n",
      "OrgSize                         22713\n",
      "Currency                        22359\n",
      "CompTotal                       36256\n",
      "CompFreq                        31289\n",
      "LanguageHaveWorkedWith           1082\n",
      "LanguageWantToWorkWith           6618\n",
      "DatabaseHaveWorkedWith          13893\n",
      "DatabaseWantToWorkWith          25140\n",
      "PlatformHaveWorkedWith          31304\n",
      "PlatformWantToWorkWith          41820\n",
      "WebframeHaveWorkedWith          21732\n",
      "WebframeWantToWorkWith          31344\n",
      "MiscTechHaveWorkedWith          36384\n",
      "MiscTechWantToWorkWith          45418\n",
      "ToolsTechHaveWorkedWith         10902\n",
      "ToolsTechWantToWorkWith         17959\n",
      "NEWCollabToolsHaveWorkedWith     2205\n",
      "NEWCollabToolsWantToWorkWith    10417\n",
      "OpSys                             145\n",
      "NEWStuck                          387\n",
      "NEWSOSites                        268\n",
      "SOVisitFreq                      1026\n",
      "SOAccount                         914\n",
      "SOPartFreq                      15886\n",
      "SOComm                           1120\n",
      "NEWOtherComms                     611\n",
      "Age                              1032\n",
      "Gender                           1153\n",
      "Trans                            2761\n",
      "Sexuality                       10073\n",
      "Ethnicity                        3975\n",
      "Accessibility                    5836\n",
      "MentalHealth                     6519\n",
      "SurveyLength                     1728\n",
      "SurveyEase                       1491\n",
      "ConvertedCompYearly             36595\n",
      "dtype: int64\n",
      "This dataset appears to have captured responses from  181  countries\n",
      "-------------------------------------\n"
     ]
    }
   ],
   "source": [
    "df_properties(df_2021, 2021, \"Country\")"
   ]
  },
  {
   "cell_type": "code",
   "execution_count": null,
   "metadata": {},
   "outputs": [],
   "source": []
  },
  {
   "cell_type": "markdown",
   "metadata": {},
   "source": [
    "The number of respondents have increased over the year with almost as many as ~89k responendents in the year 2019 and the number of countries represented in the survey also seems to have been increased over the years. There are some fields which appears to have significant missing data but for our questions of interest, such fields are not really needed, so not much time has been invested on that part."
   ]
  },
  {
   "cell_type": "code",
   "execution_count": null,
   "metadata": {},
   "outputs": [],
   "source": []
  },
  {
   "cell_type": "markdown",
   "metadata": {},
   "source": [
    "### Each section below addresses one of the business questions and invovles a mix of Data Preparation and results evaluation/insight generation"
   ]
  },
  {
   "cell_type": "markdown",
   "metadata": {},
   "source": [
    "#### Growth in percentage of females 2014-2018"
   ]
  },
  {
   "cell_type": "markdown",
   "metadata": {},
   "source": [
    "Note:\n",
    "    \n",
    "there is no gender field in the data from 2011-2013"
   ]
  },
  {
   "cell_type": "code",
   "execution_count": 46,
   "metadata": {},
   "outputs": [
    {
     "data": {
      "text/plain": [
       "<matplotlib.axes._subplots.AxesSubplot at 0x21e8b9837c8>"
      ]
     },
     "execution_count": 46,
     "metadata": {},
     "output_type": "execute_result"
    },
    {
     "data": {
      "image/png": "[encoded data removed]",
      "text/plain": [
       "<Figure size 432x288 with 1 Axes>"
      ]
     },
     "metadata": {
      "needs_background": "light"
     },
     "output_type": "display_data"
    }
   ],
   "source": [
    "'''Calculating percentage of females in each year'''\n",
    "\n",
    "females_2014 = df_2014['What is your gender?'].value_counts()['Female']/df_2014['What is your gender?'].count() * 100\n",
    "females_2015 = df_2015['Gender'].value_counts()['Female']/df_2015['Gender'].count() * 100\n",
    "\n",
    "females_2016 = df_2016['gender'].value_counts()['Female']/df_2016['gender'].count() * 100\n",
    "females_2017 = df_2017['Gender'].value_counts()['Female']/df_2017['Gender'].count() * 100\n",
    "\n",
    "females_2018 = df_2018['Gender'].value_counts()['Female']/df_2018['Gender'].count() * 100\n",
    "females_2019 = df_2019['Gender'].value_counts()['Woman']/df_2019['Gender'].count() * 100\n",
    "\n",
    "females_2020 = df_2020['Gender'].value_counts()['Woman']/df_2019['Gender'].count() * 100\n",
    "females_2021 = df_2021['Gender'].value_counts()['Woman']/df_2019['Gender'].count() * 100\n",
    "\n",
    "#bar plot to find the percentage of women respondents each year\n",
    "female_growth_df = pd.DataFrame({'year':['2014', '2015', '2016', '2017', '2018', '2019', '2020', '2021'], \n",
    "                                 '% of female developers':[females_2014, females_2015, females_2016, females_2017, females_2018, females_2019, females_2020, females_2021]\n",
    "                                }\n",
    "                               )\n",
    "female_growth_df.plot.bar(x='year', y='% of female developers', rot=0)"
   ]
  },
  {
   "cell_type": "markdown",
   "metadata": {},
   "source": [
    "Question: Are women represented more than men in the industry? Is the women headcound increasing in the industry? \n",
    "\n",
    "Conclusion: Seems like the % of female members are increasing over the years and takes a hit in 2020, 2021 which might be attributed to covid most certainly. The trend is definitely encouraging yet at the same time the organizations should try to scale up the women-centric initiatives, hiring drives, policies,.. so that the growth could be in double digits"
   ]
  },
  {
   "cell_type": "code",
   "execution_count": null,
   "metadata": {},
   "outputs": [],
   "source": []
  },
  {
   "cell_type": "markdown",
   "metadata": {},
   "source": [
    "#### Countries where the most developers are based in (last 5 years)"
   ]
  },
  {
   "cell_type": "code",
   "execution_count": 47,
   "metadata": {},
   "outputs": [],
   "source": [
    "def country_with_most_developers(input_data, rows):\n",
    "    \"\"\"\n",
    "        Input:\n",
    "            input_data: dictionary with country name as key and num developers as value\n",
    "            rows: total number of not-null records for a given year (input data)\n",
    "        Output:\n",
    "            country name with most developers and its value\n",
    "    \"\"\"\n",
    "    \n",
    "    country = max(input_data, key=input_data.get)\n",
    "    developers_fraction = max(input_data.values())/rows * 100\n",
    "    \n",
    "    return country, developers_fraction"
   ]
  },
  {
   "cell_type": "code",
   "execution_count": 48,
   "metadata": {},
   "outputs": [],
   "source": [
    "# df_2016[\"country\"].value_counts()[0]"
   ]
  },
  {
   "cell_type": "code",
   "execution_count": 49,
   "metadata": {},
   "outputs": [],
   "source": [
    "most_dev_2011 = country_with_most_developers(df_2011['What Country or Region do you live in?'].value_counts().to_dict(), df_2011['What Country or Region do you live in?'].count())\n",
    "most_dev_2012 = country_with_most_developers(df_2012['What Country or Region do you live in?'].value_counts().to_dict(), df_2012['What Country or Region do you live in?'].count())\n",
    "\n",
    "most_dev_2013 = country_with_most_developers(df_2013['What Country or Region do you live in?'].value_counts().to_dict(), df_2013['What Country or Region do you live in?'].count())\n",
    "most_dev_2014 = country_with_most_developers(df_2014['What Country do you live in?'].value_counts().to_dict(), df_2014['What Country do you live in?'].count())\n",
    "\n",
    "most_dev_2015 = country_with_most_developers(df_2015[\"Country\"].value_counts().to_dict(), df_2015[\"Country\"].count())\n",
    "\n",
    "most_dev_2016 = country_with_most_developers(df_2016[\"country\"].value_counts().to_dict(), df_2016[\"country\"].count())\n",
    "most_dev_2017 = country_with_most_developers(df_2017[\"Country\"].value_counts().to_dict(), df_2017[\"Country\"].count())\n",
    "\n",
    "most_dev_2018 = country_with_most_developers(df_2018[\"Country\"].value_counts().to_dict(), df_2018[\"Country\"].count())\n",
    "most_dev_2019 = country_with_most_developers(df_2019[\"Country\"].value_counts().to_dict(), df_2019[\"Country\"].count())\n",
    "\n",
    "most_dev_2020 = country_with_most_developers(df_2020[\"Country\"].value_counts().to_dict(), df_2020[\"Country\"].count())\n",
    "most_dev_2021 = country_with_most_developers(df_2021[\"Country\"].value_counts().to_dict(), df_2021[\"Country\"].count())"
   ]
  },
  {
   "cell_type": "code",
   "execution_count": 50,
   "metadata": {},
   "outputs": [
    {
     "data": {
      "text/plain": [
       "('United States of America', 18.322367238341783)"
      ]
     },
     "execution_count": 50,
     "metadata": {},
     "output_type": "execute_result"
    }
   ],
   "source": [
    "most_dev_2021"
   ]
  },
  {
   "cell_type": "code",
   "execution_count": 51,
   "metadata": {},
   "outputs": [],
   "source": [
    "most_dev_location_dict = {\n",
    "    '2011': most_dev_2011,\n",
    "    '2012': most_dev_2012,\n",
    "    '2013': most_dev_2013,\n",
    "    '2014': most_dev_2014,\n",
    "    '2015': most_dev_2015,\n",
    "    '2016': most_dev_2016,\n",
    "    '2017': most_dev_2017,\n",
    "    '2018': most_dev_2018,\n",
    "    '2019': most_dev_2019,\n",
    "    '2020': most_dev_2020,\n",
    "    '2021': most_dev_2021\n",
    "}"
   ]
  },
  {
   "cell_type": "code",
   "execution_count": 52,
   "metadata": {},
   "outputs": [
    {
     "data": {
      "text/plain": [
       "{'2011': ('United States of America', 36.85145700071073),\n",
       " '2012': ('United States of America', 28.58744394618834),\n",
       " '2013': ('United States of America', 32.65243276534592),\n",
       " '2014': ('United States', 27.83882783882784),\n",
       " '2015': ('United States', 18.770520985798488),\n",
       " '2016': ('United States', 24.382293617634346),\n",
       " '2017': ('United States', 22.289461394769614),\n",
       " '2018': ('United States', 20.63021240717979),\n",
       " '2019': ('United States', 23.604241078973757),\n",
       " '2020': ('United States', 19.460918966163064),\n",
       " '2021': ('United States of America', 18.322367238341783)}"
      ]
     },
     "execution_count": 52,
     "metadata": {},
     "output_type": "execute_result"
    }
   ],
   "source": [
    "most_dev_location_dict"
   ]
  },
  {
   "cell_type": "code",
   "execution_count": null,
   "metadata": {},
   "outputs": [],
   "source": []
  },
  {
   "cell_type": "code",
   "execution_count": 58,
   "metadata": {},
   "outputs": [
    {
     "data": {
      "image/png": "[encoded data removed]",
      "text/plain": [
       "<Figure size 1080x720 with 1 Axes>"
      ]
     },
     "metadata": {
      "needs_background": "light"
     },
     "output_type": "display_data"
    }
   ],
   "source": [
    "#bar chart to display the country with the most number of developers\n",
    "\n",
    "df_most_dev_location = pd.DataFrame({'% of developers': list(map(lambda x: x[1], most_dev_location_dict.values()))},\n",
    "                                    index = list(most_dev_location_dict.keys())\n",
    "                                   ) \n",
    "\n",
    "ax = df_most_dev_location.plot.bar(figsize=(15,10), color=[plt.cm.Paired(np.arange(len(df_most_dev_location)))])\n",
    "\n",
    "for i, p in enumerate(list(ax.patches)):\n",
    "    ax.annotate(str(list(map(lambda x: x[0], most_dev_location_dict.values()))[i]), (p.get_x() * 1.005, p.get_height() * 1.005))"
   ]
  },
  {
   "cell_type": "markdown",
   "metadata": {},
   "source": [
    "Question: Would be developers community prefer a specific country/location for the work (could be because of any factor - say more opportunities in a country?)\n",
    "\n",
    "Conclusion:\n",
    "As is evident from the graph above, most of the developers are based in the United States.\n",
    "\n",
    "This could be attributed to a number of factors like most the tech firms' headquarters are based in the states which imbibe a culture of tech-oriented people who like to then move to the states itself"
   ]
  },
  {
   "cell_type": "code",
   "execution_count": null,
   "metadata": {},
   "outputs": [],
   "source": []
  },
  {
   "cell_type": "markdown",
   "metadata": {},
   "source": [
    "#### Get the most popular development environment"
   ]
  },
  {
   "cell_type": "code",
   "execution_count": 59,
   "metadata": {},
   "outputs": [
    {
     "data": {
      "text/plain": [
       "0                                              Atom; Xcode\n",
       "1        Atom; Notepad++; Vim; PyCharm; RubyMine; Visua...\n",
       "2                              Sublime Text; Vim; IntelliJ\n",
       "3        Notepad++; Sublime Text; TextMate; Vim; IPytho...\n",
       "4                                                      NaN\n",
       "                               ...                        \n",
       "51387                          Sublime Text; Visual Studio\n",
       "51388                    Notepad++; Sublime Text; NetBeans\n",
       "51389                                                  NaN\n",
       "51390                                    Emacs; Vim; Xcode\n",
       "51391                    Notepad++; Eclipse; Visual Studio\n",
       "Name: IDE, Length: 51392, dtype: object"
      ]
     },
     "execution_count": 59,
     "metadata": {},
     "output_type": "execute_result"
    }
   ],
   "source": [
    "df_2017[\"IDE\"]"
   ]
  },
  {
   "cell_type": "code",
   "execution_count": 60,
   "metadata": {},
   "outputs": [],
   "source": [
    "def popular_dev_env(input_data):\n",
    "    \"\"\"Input: series where each entry corresponds to the user's response for most popular development environment\n",
    "       Output: most popular envrionment name, and the fraction of users who uses this environment\n",
    "    \"\"\"\n",
    "    \n",
    "    dictionary = collections.defaultdict(int)\n",
    "    \n",
    "    ## iterate over each entry/record in the input\n",
    "    for data in input_data:\n",
    "        if not pd.isnull(data):\n",
    "            dev_envs = [x.strip().lower() for x in data.split(\";\")]\n",
    "            \n",
    "            ## iterate over each environment (in case of multiple ones)\n",
    "            for env in dev_envs:\n",
    "                dictionary[env] += 1\n",
    "    \n",
    "    ## return the dictionary item with max. value\n",
    "    return max(dictionary, key=dictionary.get), max(dictionary.values())/(input_data.count()) * 100"
   ]
  },
  {
   "cell_type": "code",
   "execution_count": 61,
   "metadata": {},
   "outputs": [
    {
     "data": {
      "text/plain": [
       "('visual studio', 38.17192296957857)"
      ]
     },
     "execution_count": 61,
     "metadata": {},
     "output_type": "execute_result"
    }
   ],
   "source": [
    "popular_dev_env(df_2017[\"IDE\"])"
   ]
  },
  {
   "cell_type": "code",
   "execution_count": 62,
   "metadata": {},
   "outputs": [],
   "source": [
    "pop_env_2017 = popular_dev_env(df_2017[\"IDE\"])\n",
    "\n",
    "pop_env_2018 = popular_dev_env(df_2018[\"IDE\"])\n",
    "\n",
    "pop_env_2019 = popular_dev_env(df_2019[\"DevEnviron\"])"
   ]
  },
  {
   "cell_type": "code",
   "execution_count": 63,
   "metadata": {},
   "outputs": [],
   "source": [
    "pop_dev_env_dict = {\n",
    "    '2017': pop_env_2017,\n",
    "    '2018': pop_env_2018,\n",
    "    '2019': pop_env_2019\n",
    "}"
   ]
  },
  {
   "cell_type": "code",
   "execution_count": 64,
   "metadata": {},
   "outputs": [
    {
     "name": "stdout",
     "output_type": "stream",
     "text": [
      "{'2017': ('visual studio', 38.17192296957857), '2018': ('visual studio code', 34.855035942597944), '2019': ('visual studio code', 50.747277162522764)}\n"
     ]
    }
   ],
   "source": [
    "print(pop_dev_env_dict)"
   ]
  },
  {
   "cell_type": "code",
   "execution_count": null,
   "metadata": {},
   "outputs": [],
   "source": []
  },
  {
   "cell_type": "code",
   "execution_count": 65,
   "metadata": {},
   "outputs": [
    {
     "data": {
      "image/png": "[encoded data removed]",
      "text/plain": [
       "<Figure size 1080x720 with 1 Axes>"
      ]
     },
     "metadata": {
      "needs_background": "light"
     },
     "output_type": "display_data"
    }
   ],
   "source": [
    "#bar chart to display the most popular IDE for each year\n",
    "\n",
    "df = pd.DataFrame({'percentage of users': list(map(lambda x: x[1], pop_dev_env_dict.values()))},index=list(pop_dev_env_dict.keys()) ) \n",
    "ax = df.plot.bar(figsize=(15,10), color=[plt.cm.Paired(np.arange(len(df)))])\n",
    "\n",
    "for i, p in enumerate(list(ax.patches)):\n",
    "    ax.annotate(str(list(map(lambda x: x[0], pop_dev_env_dict.values()))[i]), (p.get_x() * 1.005, p.get_height() * 1.005))"
   ]
  },
  {
   "cell_type": "markdown",
   "metadata": {},
   "source": [
    "Question: Is there any specific preference or need for a specific type of editor? Or the most popular editor keeps on changing over the years?\n",
    "\n",
    "Answer:\n",
    "Seems like “Visual Studio” is the obvious choice of the developers which appears a bit surprising to me but at the same time reflects very nicely on the satisfaction level of users with visual studio. Other platforms might try out visual studio to see and understand for themselves why visual studio is the most popular choice and try to incorporate similar features"
   ]
  },
  {
   "cell_type": "code",
   "execution_count": null,
   "metadata": {},
   "outputs": [],
   "source": []
  },
  {
   "cell_type": "markdown",
   "metadata": {},
   "source": [
    "#### Data modeling"
   ]
  },
  {
   "cell_type": "markdown",
   "metadata": {},
   "source": [
    "Data modeling is not needed in this specific use case as the business questions of interest could be answered directly via the route of Data exploration"
   ]
  }
 ],
 "metadata": {
  "kernelspec": {
   "display_name": "Python 3",
   "language": "python",
   "name": "python3"
  },
  "language_info": {
   "codemirror_mode": {
    "name": "ipython",
    "version": 3
   },
   "file_extension": ".py",
   "mimetype": "text/x-python",
   "name": "python",
   "nbconvert_exporter": "python",
   "pygments_lexer": "ipython3",
   "version": "3.7.4"
  }
 },
 "nbformat": 4,
 "nbformat_minor": 2
}
